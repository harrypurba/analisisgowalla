{
 "cells": [
  {
   "cell_type": "code",
   "execution_count": 1,
   "metadata": {
    "collapsed": true
   },
   "outputs": [],
   "source": [
    "import pandas as pd\n",
    "from sklearn import preprocessing\n",
    "import numbers"
   ]
  },
  {
   "cell_type": "code",
   "execution_count": 2,
   "metadata": {
    "collapsed": true
   },
   "outputs": [],
   "source": [
    "data = pd.read_csv(\"hubungan_user.txt\", header=None, delimiter=\"\\t\")\n",
    "#data.columns = ['iduser', 'idlokasi']\n",
    "goedge = pd.read_csv(\"gowallaedgeprune.txt\", header=None, delimiter=\"\\t\")\n",
    "#data.columns = ['iduser', 'idlokasi']"
   ]
  },
  {
   "cell_type": "code",
   "execution_count": 3,
   "metadata": {
    "collapsed": true
   },
   "outputs": [],
   "source": [
    "sumber = data[0]\n",
    "target = data[1]\n",
    "supp = data[3]\n",
    "banyakdata = sumber.size\n",
    "ambang = 10"
   ]
  },
  {
   "cell_type": "code",
   "execution_count": 4,
   "metadata": {
    "collapsed": true
   },
   "outputs": [],
   "source": [
    "datateman = {}\n",
    "datateman['sumber'] = []\n",
    "datateman['target'] = []\n",
    "\n",
    "for i in range(banyakdata):\n",
    "    if supp[i] >= ambang:\n",
    "        if sumber[i] < target[i]:\n",
    "            datateman['sumber'].append(sumber[i])\n",
    "            datateman['target'].append(target[i])"
   ]
  },
  {
   "cell_type": "code",
   "execution_count": 30,
   "metadata": {
    "collapsed": true
   },
   "outputs": [],
   "source": [
    "spmfedge = pd.DataFrame({0:datateman['sumber'],1:datateman['target']})"
   ]
  },
  {
   "cell_type": "code",
   "execution_count": 32,
   "metadata": {},
   "outputs": [],
   "source": [
    "spmfedge[0] = pd.to_numeric(spmfedge[0], errors='coerce')\n",
    "spmfedge[1] = pd.to_numeric(spmfedge[1], errors='coerce')\n",
    "\n",
    "spmfedge = spmfedge.dropna(subset=[0])\n",
    "spmfedge = spmfedge.dropna(subset=[1])\n",
    "\n",
    "spmfedge[0] = spmfedge[0].astype(int)\n",
    "spmfedge[1] = spmfedge[1].astype(int)"
   ]
  },
  {
   "cell_type": "code",
   "execution_count": 34,
   "metadata": {},
   "outputs": [],
   "source": [
    "spmfedge = spmfedge.sort_values(by=[0,1]).reset_index(drop=True)"
   ]
  },
  {
   "cell_type": "code",
   "execution_count": 35,
   "metadata": {},
   "outputs": [
    {
     "name": "stdout",
     "output_type": "stream",
     "text": [
      "206296\n",
      "950327\n"
     ]
    }
   ],
   "source": [
    "print(spmfedge[0].size)\n",
    "print(goedge[0].size)"
   ]
  },
  {
   "cell_type": "code",
   "execution_count": 36,
   "metadata": {
    "collapsed": true
   },
   "outputs": [],
   "source": [
    "dataout = pd.DataFrame(data=spmfedge)\n",
    "dataout.to_csv('temanambang10.txt', sep='\\t', encoding='utf-8',index=False)"
   ]
  },
  {
   "cell_type": "code",
   "execution_count": 49,
   "metadata": {},
   "outputs": [],
   "source": [
    "ukurankiri = spmfedge[0].size # data dari proses spmf \n",
    "ukurankanan = goedge[0].size # data dari gowalla edge\n",
    "\n",
    "indekskiri = 0 \n",
    "indekskanan = 0\n",
    "i = 0\n",
    "banyaksama = 0\n",
    "temantapitakselokasi = 0\n",
    "selokasitapitakteman = 0\n",
    "\n",
    "while ((indekskiri < ukurankiri) and (indekskanan < ukurankanan)):\n",
    "#while (i <200):\n",
    "    #print(\"Indeks Kiri : \",indekskiri)\n",
    "    #print(\"Indeks Kanan : \",indekskanan)\n",
    "    #print(\"SPMF : \",spmfedge[0][indekskiri],spmfedge[1][indekskiri])\n",
    "    #print(\"GO : \",goedge[0][indekskanan],goedge[1][indekskanan])\n",
    "    \n",
    "    \n",
    "    if((spmfedge[0][indekskiri] == goedge[0][indekskanan]) and (spmfedge[1][indekskiri] == goedge[1][indekskanan])):\n",
    "        banyaksama = banyaksama + 1\n",
    "        indekskanan = indekskanan + 1\n",
    "        indekskiri = indekskiri + 1\n",
    "    else :\n",
    "        if(spmfedge[0][indekskiri] == goedge[0][indekskanan]):\n",
    "            if(spmfedge[1][indekskiri] < goedge[1][indekskanan]):\n",
    "                indekskiri += 1\n",
    "                selokasitapitakteman += 1\n",
    "            else :\n",
    "                indekskanan += 1\n",
    "                temantapitakselokasi += 1\n",
    "        else:\n",
    "            if(spmfedge[0][indekskiri] < goedge[0][indekskanan]):\n",
    "                indekskiri += 1\n",
    "                selokasitapitakteman += 1\n",
    "            else:\n",
    "                indekskanan += 1\n",
    "                temantapitakselokasi += 1\n",
    "    #print(\"Banyak sama : \",banyaksama)\n",
    "    #print(\"TTTS : \",temantapitakselokasi)\n",
    "    #print(\"STTT : \",selokasitapitakteman)\n",
    "    \n",
    "    #i += 1"
   ]
  },
  {
   "cell_type": "code",
   "execution_count": 50,
   "metadata": {},
   "outputs": [
    {
     "name": "stdout",
     "output_type": "stream",
     "text": [
      "Indeks Kiri :  206296\n",
      "Indeks Kanan :  949716\n",
      "Banyak sama :  13728\n",
      "TTTS :  935988\n",
      "STTT :  192568\n"
     ]
    }
   ],
   "source": [
    "print(\"Indeks Kiri : \",indekskiri)\n",
    "print(\"Indeks Kanan : \",indekskanan)\n",
    "\n",
    "print(\"Banyak sama : \",banyaksama)\n",
    "print(\"TTTS : \",temantapitakselokasi)\n",
    "print(\"STTT : \",selokasitapitakteman)"
   ]
  },
  {
   "cell_type": "code",
   "execution_count": null,
   "metadata": {
    "collapsed": true
   },
   "outputs": [],
   "source": [
    "Indeks Kiri :  206296\n",
    "Indeks Kanan :  949716\n",
    "Banyak sama :  13728\n",
    "TTTS :  195126\n",
    "STTT :  146848\n"
   ]
  },
  {
   "cell_type": "code",
   "execution_count": null,
   "metadata": {
    "collapsed": true
   },
   "outputs": [],
   "source": []
  }
 ],
 "metadata": {
  "kernelspec": {
   "display_name": "Python 3",
   "language": "python",
   "name": "python3"
  },
  "language_info": {
   "codemirror_mode": {
    "name": "ipython",
    "version": 3
   },
   "file_extension": ".py",
   "mimetype": "text/x-python",
   "name": "python",
   "nbconvert_exporter": "python",
   "pygments_lexer": "ipython3",
   "version": "3.6.3"
  }
 },
 "nbformat": 4,
 "nbformat_minor": 2
}
